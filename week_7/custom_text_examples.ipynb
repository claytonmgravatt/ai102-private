{
 "cells": [
  {
   "cell_type": "code",
   "execution_count": 1,
   "metadata": {},
   "outputs": [],
   "source": [
    "import os\n",
    "\n",
    "from azure.ai.textanalytics import TextAnalyticsClient\n",
    "from azure.core.credentials import AzureKeyCredential\n",
    "from dotenv import load_dotenv\n",
    "\n",
    "load_dotenv(override=True)\n",
    "endpoint = os.environ.get(\"AZURE_LANGUAGE_ENDPOINT\")\n",
    "api_key = os.environ.get(\"AZURE_LANGUAGE_API_KEY\")\n",
    "credential = AzureKeyCredential(api_key)\n",
    "\n",
    "text_analytics_client = TextAnalyticsClient(endpoint, credential)\n"
   ]
  },
  {
   "cell_type": "code",
   "execution_count": 17,
   "metadata": {},
   "outputs": [],
   "source": [
    "example_blog = \"\"\"\n",
    "Exploring C#: The Versatile Language for Modern Development\n",
    "by Seesh Harp\n",
    "\n",
    "Introduction to C#\n",
    "C# (pronounced \"C-sharp\") is a powerful, type-safe, and object-oriented programming language developed by Microsoft. It is part of the .NET framework, making it one of the most crucial tools for developers aiming to build a wide range of applications, from simple desktop programs to complex web services.\n",
    "\n",
    "Why Choose C#?\n",
    "C# stands out for its simplicity and readability, which eases the learning curve for new developers. Its strong typing helps to prevent many common programming errors, making code more robust and maintainable. Moreover, C#'s integration with the .NET framework provides developers with a rich library of pre-coded solutions and frameworks, which can significantly reduce development time.\n",
    "\n",
    "Key Features of C#\n",
    "\n",
    "Interoperability: C# offers seamless integration with Windows and other Microsoft technologies, making it ideal for developing applications in a Microsoft-centric environment.\n",
    "Scalability and Maintainability: The language's structure promotes scalable and maintainable code, which is vital for enterprise applications.\n",
    "Versatility: From desktop applications to mobile apps (via Xamarin) and web applications (using ASP.NET), C# covers a broad spectrum of programming needs.\n",
    "Community and Support: C# benefits from a strong, vibrant community and extensive support from Microsoft, ensuring resources are always available for learning and troubleshooting.\n",
    "Use Cases of C#\n",
    "\n",
    "Enterprise Applications: Many businesses rely on C# for their critical back-end systems due to its robustness and security features.\n",
    "Game Development: With tools like Unity, C# is a top choice for game developers looking to create high-performance games across multiple platforms.\n",
    "Mobile Applications: Through Xamarin, developers can use C# to build native mobile apps for Android and iOS, sharing code across platforms to reduce development time and cost.\n",
    "Conclusion\n",
    "Whether you are a beginner aiming to learn your first programming language or an experienced developer looking for a robust language for a new project, C# offers a compelling mix of modern features, extensive libraries, and a supportive community. As technology evolves, C# continues to be updated with new features and capabilities, ensuring it remains relevant and powerful in the ever-changing landscape of software development.\n",
    "\"\"\""
   ]
  },
  {
   "cell_type": "code",
   "execution_count": 3,
   "metadata": {},
   "outputs": [
    {
     "name": "stdout",
     "output_type": "stream",
     "text": [
      "[ClassifyDocumentResult(id=0, classifications=[ClassificationCategory(category=Csharp, confidence_score=0.55)], warnings=[], statistics=None, is_error=False, kind=CustomDocumentClassification)]\n",
      "[ClassificationCategory(category=Csharp, confidence_score=0.55)]\n"
     ]
    }
   ],
   "source": [
    "classifier_project = \"ai-102-demo-classify-blog-proj\"\n",
    "classifier_deployment = \"blog-prod\"\n",
    "\n",
    "poller = text_analytics_client.begin_single_label_classify(\n",
    "    documents=[example_blog],\n",
    "    project_name=classifier_project,\n",
    "    deployment_name=classifier_deployment,\n",
    ")\n",
    "\n",
    "classification_results = list(poller.result())\n",
    "\n",
    "print(classification_results)\n",
    "print(classification_results[0].classifications)\n",
    "\n",
    "#ex. Spam detection, content management, feedback categorization (environment, management, job satisfaction, etc.)"
   ]
  },
  {
   "cell_type": "code",
   "execution_count": 19,
   "metadata": {},
   "outputs": [
    {
     "name": "stdout",
     "output_type": "stream",
     "text": [
      "[RecognizeCustomEntitiesResult(id=0, entities=[CategorizedEntity(text=Seesh Harp, category=Person, subcategory=None, length=10, offset=64, confidence_score=0.99)], warnings=[], statistics=None, is_error=False, kind=CustomEntityRecognition)]\n",
      "[CategorizedEntity(text=Seesh Harp, category=Person, subcategory=None, length=10, offset=64, confidence_score=0.99)]\n"
     ]
    }
   ],
   "source": [
    "named_entity_recognition_project = \"ai-102-demo-ner-blog-proj\"\n",
    "named_entity_recognition_deployment = \"ner-blog-prod\"\n",
    "\n",
    "poller = text_analytics_client.begin_recognize_custom_entities(\n",
    "    documents=[example_blog],\n",
    "    project_name=named_entity_recognition_project,\n",
    "    deployment_name=named_entity_recognition_deployment,\n",
    ")\n",
    "\n",
    "ner_results = list(poller.result())\n",
    "\n",
    "print(ner_results)\n",
    "print(ner_results[0].entities)\n",
    "\n",
    "#ex. Patient data from medical notes, obligations and dates from contracts, product recognition from reviews, auto-populating fields from intake notes, etc."
   ]
  }
 ],
 "metadata": {
  "kernelspec": {
   "display_name": "ai-102-demo",
   "language": "python",
   "name": "python3"
  },
  "language_info": {
   "codemirror_mode": {
    "name": "ipython",
    "version": 3
   },
   "file_extension": ".py",
   "mimetype": "text/x-python",
   "name": "python",
   "nbconvert_exporter": "python",
   "pygments_lexer": "ipython3",
   "version": "3.9.18"
  }
 },
 "nbformat": 4,
 "nbformat_minor": 2
}
