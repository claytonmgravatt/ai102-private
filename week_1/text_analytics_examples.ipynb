{
 "cells": [
  {
   "cell_type": "code",
   "execution_count": 2,
   "metadata": {},
   "outputs": [],
   "source": [
    "import os\n",
    "import requests\n",
    "import json\n",
    "\n",
    "from dotenv import load_dotenv\n",
    "from azure.core.credentials import AzureKeyCredential\n",
    "from azure.ai.textanalytics import TextAnalyticsClient\n",
    "\n",
    "load_dotenv(override=True)\n",
    "endpoint = os.environ.get(\"AZURE_LANGUAGE_ENDPOINT\")\n",
    "api_key = os.environ.get(\"AZURE_LANGUAGE_API_KEY\")\n",
    "credential = AzureKeyCredential(api_key)\n",
    "\n",
    "text_analytics_client = TextAnalyticsClient(endpoint=endpoint, credential=credential)\n",
    "\n",
    "example_text = \"\"\"\n",
    "While we’ve just been discussing expertise, nothing can replace hands-on experience in developing and delivering solutions. Experience should include a healthy mix of implementing business logic, managing data, designing interfaces, and integrating systems.\n",
    "\n",
    "Look for opportunities to build solutions on different technical platforms. Some examples include the .NET C# ecosystem, Node, JavaScript/client side, and Java.\n",
    "\n",
    "You may end up specializing in a given area, but being well-rounded still applies. For example, a DevOps architect should have a good grasp of technology generally while also knowing the specifics of DevOps very well. An Integration Architect may have most of their experience integrating technologies but can still build an application if needed. Meanwhile, a Data Architect would be expected to have experience designing data systems and implementing Business Intelligence solutions. An architect with narrow experience may miss out on better solutions for problems because they resort to the limited solutions they are familiar with.\n",
    "\n",
    "Keep in mind that sometimes, the best lessons an architect will learn are by doing things the wrong way or making an incorrect choice. One must be humble and self-aware enough to learn from their mistakes to minimize the chance of making them in the future.\n",
    "\"\"\""
   ]
  },
  {
   "cell_type": "code",
   "execution_count": 4,
   "metadata": {},
   "outputs": [
    {
     "name": "stdout",
     "output_type": "stream",
     "text": [
      "{'id': '0', 'primary_language': DetectedLanguage(name=English, iso6391_name=en, confidence_score=1.0), 'warnings': [], 'statistics': None, 'is_error': False, 'kind': 'LanguageDetection'}\n",
      "Detected language: English\n",
      "Confidence: 1.0\n"
     ]
    }
   ],
   "source": [
    "# Detect Language SDK\n",
    "\n",
    "detected_language_result = text_analytics_client.detect_language(documents=[example_text])[0]\n",
    "print(detected_language_result)\n",
    "\n",
    "print(f\"Detected language: {detected_language_result.primary_language.name}\")\n",
    "\n",
    "print(f\"Confidence: {detected_language_result.primary_language.confidence_score}\")"
   ]
  },
  {
   "cell_type": "code",
   "execution_count": 6,
   "metadata": {},
   "outputs": [
    {
     "name": "stdout",
     "output_type": "stream",
     "text": [
      "{'kind': 'LanguageDetectionResults', 'results': {'documents': [{'id': '1', 'detectedLanguage': {'name': 'English', 'iso6391Name': 'en', 'confidenceScore': 1.0, 'script': 'Latin', 'scriptCode': 'Latn'}, 'warnings': []}], 'errors': [], 'modelVersion': '2023-12-01'}}\n",
      "Detected Language: English\n"
     ]
    }
   ],
   "source": [
    "# Detect Language HTTP\n",
    "\n",
    "url = f\"{endpoint}/language/:analyze-text?api-version=2023-11-15-preview\"\n",
    "\n",
    "headers = {\n",
    "    \"Content-Type\": \"application/json\",\n",
    "    \"Ocp-Apim-Subscription-Key\": api_key,\n",
    "}\n",
    "\n",
    "payload = {\n",
    "    \"kind\": \"LanguageDetection\",\n",
    "    \"parameters\": {\"modelVersion\": \"latest\"},\n",
    "    \"analysisInput\": {\"documents\": [{\"id\": \"1\", \"text\": example_text}]},\n",
    "}\n",
    "\n",
    "response = requests.post(url, json=payload, headers=headers)\n",
    "\n",
    "detected_language_response = json.loads(response.text)\n",
    "\n",
    "print(detected_language_response)\n",
    "\n",
    "detected_language = detected_language_response[\"results\"][\"documents\"][0][\n",
    "    \"detectedLanguage\"\n",
    "][\"name\"]\n",
    "\n",
    "print(f\"Detected Language: {detected_language}\")"
   ]
  },
  {
   "cell_type": "code",
   "execution_count": 7,
   "metadata": {},
   "outputs": [
    {
     "name": "stdout",
     "output_type": "stream",
     "text": [
      "[ExtractKeyPhrasesResult(id=0, key_phrases=['different technical platforms', 'An Integration Architect', 'Business Intelligence solutions', 'business logic', 'healthy mix', 'JavaScript/client side', 'good grasp', 'best lessons', 'incorrect choice', 'limited solutions', 'Data Architect', 'DevOps architect', 'narrow experience', 'data systems', 'expertise', 'hands', 'interfaces', 'opportunities', 'examples', 'Node', 'area', 'technology', 'specifics', 'technologies', 'application', 'problems', 'mind', 'things', 'wrong', 'mistakes', 'chance', 'future'], warnings=[], statistics=None, is_error=False, kind=KeyPhraseExtraction)]\n",
      "['different technical platforms', 'An Integration Architect', 'Business Intelligence solutions', 'business logic', 'healthy mix', 'JavaScript/client side', 'good grasp', 'best lessons', 'incorrect choice', 'limited solutions', 'Data Architect', 'DevOps architect', 'narrow experience', 'data systems', 'expertise', 'hands', 'interfaces', 'opportunities', 'examples', 'Node', 'area', 'technology', 'specifics', 'technologies', 'application', 'problems', 'mind', 'things', 'wrong', 'mistakes', 'chance', 'future']\n"
     ]
    }
   ],
   "source": [
    "# Extract Key Phrases SDK\n",
    "\n",
    "key_phrases_reponse = text_analytics_client.extract_key_phrases(documents=[example_text])\n",
    "print(key_phrases_reponse)\n",
    "\n",
    "key_phrases = key_phrases_reponse[0].key_phrases\n",
    "print(key_phrases)\n",
    "\n",
    "#ex: quick article \"summary\", precomputed alternative to full text search"
   ]
  },
  {
   "cell_type": "code",
   "execution_count": 10,
   "metadata": {},
   "outputs": [
    {
     "name": "stdout",
     "output_type": "stream",
     "text": [
      "Key phrases: ['different technical platforms', 'An Integration Architect', 'Business Intelligence solutions', 'business logic', 'healthy mix', 'JavaScript/client side', 'good grasp', 'best lessons', 'incorrect choice', 'limited solutions', 'Data Architect', 'DevOps architect', 'narrow experience', 'data systems', 'expertise', 'hands', 'interfaces', 'opportunities', 'examples', 'Node', 'area', 'technology', 'specifics', 'technologies', 'application', 'problems', 'mind', 'things', 'wrong', 'mistakes', 'chance', 'future']\n"
     ]
    }
   ],
   "source": [
    "# Extract Key Phrases HTTP\n",
    "\n",
    "url = f\"{endpoint}/language/:analyze-text?api-version=2023-11-15-preview\"\n",
    "\n",
    "headers = {\n",
    "    \"Content-Type\": \"application/json\",\n",
    "    \"Ocp-Apim-Subscription-Key\": api_key,\n",
    "}\n",
    "\n",
    "payload = {\n",
    "    \"kind\": \"KeyPhraseExtraction\",\n",
    "    \"parameters\": {\"modelVersion\": \"latest\"},\n",
    "    \"analysisInput\": {\"documents\": [{\"id\": \"1\", \"text\": example_text}]},\n",
    "}\n",
    "\n",
    "\n",
    "response = requests.post(url, json=payload, headers=headers)\n",
    "\n",
    "key_phrases = json.loads(response.text)[\"results\"][\"documents\"][0][\"keyPhrases\"]\n",
    "\n",
    "print(f\"Key phrases: {key_phrases}\")"
   ]
  },
  {
   "cell_type": "code",
   "execution_count": 8,
   "metadata": {},
   "outputs": [
    {
     "name": "stdout",
     "output_type": "stream",
     "text": [
      "negative\n",
      "{'positive': 0.04, 'neutral': 0.25, 'negative': 0.71}\n"
     ]
    }
   ],
   "source": [
    "# Analyze sentiment SDK\n",
    "\n",
    "sentiment_result = text_analytics_client.analyze_sentiment(\n",
    "    documents=[example_text]\n",
    ")[0]\n",
    "\n",
    "print(sentiment_result.sentiment)\n",
    "print(sentiment_result.confidence_scores)\n",
    "\n",
    "#ex. analyze tweets"
   ]
  },
  {
   "cell_type": "code",
   "execution_count": 12,
   "metadata": {},
   "outputs": [
    {
     "name": "stdout",
     "output_type": "stream",
     "text": [
      "Sentiment: negative\n",
      "Confidence Scores: {'positive': 0.04, 'neutral': 0.25, 'negative': 0.71}\n"
     ]
    }
   ],
   "source": [
    "# Analyze Sentiment HTTP\n",
    "\n",
    "url = f\"{endpoint}/language/:analyze-text?api-version=2023-11-15-preview\"\n",
    "\n",
    "headers = {\n",
    "    \"Content-Type\": \"application/json\",\n",
    "    \"Ocp-Apim-Subscription-Key\": api_key,\n",
    "}\n",
    "\n",
    "payload = {\n",
    "    \"kind\": \"SentimentAnalysis\",\n",
    "    \"parameters\": {\"modelVersion\": \"latest\"},\n",
    "    \"analysisInput\": {\"documents\": [{\"id\": \"1\", \"text\": example_text}]},\n",
    "}\n",
    "\n",
    "response = requests.post(url, json=payload, headers=headers)\n",
    "\n",
    "sentiment_result = json.loads(response.text)[\"results\"][\"documents\"][0]\n",
    "print(f\"Sentiment: {sentiment_result['sentiment']}\")\n",
    "print(f\"Confidence Scores: {sentiment_result['confidenceScores']}\")"
   ]
  },
  {
   "cell_type": "code",
   "execution_count": 13,
   "metadata": {},
   "outputs": [
    {
     "name": "stdout",
     "output_type": "stream",
     "text": [
      "[CategorizedEntity(text=developing, category=Skill, subcategory=None, length=10, offset=88, confidence_score=1.0), CategorizedEntity(text=delivering solutions, category=Skill, subcategory=None, length=20, offset=103, confidence_score=0.99), CategorizedEntity(text=business logic, category=Skill, subcategory=None, length=14, offset=181, confidence_score=0.82), CategorizedEntity(text=managing data, category=Skill, subcategory=None, length=13, offset=197, confidence_score=0.85), CategorizedEntity(text=designing interfaces, category=Skill, subcategory=None, length=20, offset=212, confidence_score=0.97), CategorizedEntity(text=integrating systems, category=Skill, subcategory=None, length=19, offset=238, confidence_score=0.99), CategorizedEntity(text=build, category=Skill, subcategory=None, length=5, offset=286, confidence_score=0.8), CategorizedEntity(text=technical platforms, category=Skill, subcategory=None, length=19, offset=315, confidence_score=1.0), CategorizedEntity(text=Node, category=Product, subcategory=Computing, length=4, offset=381, confidence_score=1.0), CategorizedEntity(text=JavaScript, category=Skill, subcategory=None, length=10, offset=387, confidence_score=1.0), CategorizedEntity(text=Java, category=Skill, subcategory=None, length=4, offset=415, confidence_score=1.0), CategorizedEntity(text=-rounded, category=Skill, subcategory=None, length=8, offset=481, confidence_score=0.73), CategorizedEntity(text=DevOps architect, category=PersonType, subcategory=None, length=16, offset=520, confidence_score=0.7), CategorizedEntity(text=technology, category=Skill, subcategory=None, length=10, offset=565, confidence_score=1.0), CategorizedEntity(text=DevOps, category=Skill, subcategory=None, length=6, offset=622, confidence_score=1.0), CategorizedEntity(text=Integration Architect, category=PersonType, subcategory=None, length=21, offset=643, confidence_score=0.69), CategorizedEntity(text=integrating technologies, category=Skill, subcategory=None, length=24, offset=699, confidence_score=0.98), CategorizedEntity(text=application, category=Skill, subcategory=None, length=11, offset=747, confidence_score=0.99), CategorizedEntity(text=Data Architect, category=PersonType, subcategory=None, length=14, offset=783, confidence_score=0.89), CategorizedEntity(text=designing, category=Skill, subcategory=None, length=9, offset=835, confidence_score=0.95), CategorizedEntity(text=data systems, category=Skill, subcategory=None, length=12, offset=845, confidence_score=0.99), CategorizedEntity(text=implementing, category=Skill, subcategory=None, length=12, offset=862, confidence_score=0.58), CategorizedEntity(text=Business Intelligence, category=Skill, subcategory=None, length=21, offset=875, confidence_score=0.83), CategorizedEntity(text=architect, category=PersonType, subcategory=None, length=9, offset=911, confidence_score=0.98), CategorizedEntity(text=may, category=DateTime, subcategory=DateRange, length=3, offset=944, confidence_score=0.91), CategorizedEntity(text=architect, category=PersonType, subcategory=None, length=9, offset=1109, confidence_score=1.0), CategorizedEntity(text=One, category=Quantity, subcategory=Number, length=3, offset=1195, confidence_score=0.8)]\n"
     ]
    }
   ],
   "source": [
    "# Recognize Entities SDK\n",
    "\n",
    "entity_result = text_analytics_client.recognize_entities(documents=[example_text])[\n",
    "    0\n",
    "]\n",
    "\n",
    "print(entity_result.entities)\n",
    "#ex. trending in \"people\""
   ]
  },
  {
   "cell_type": "code",
   "execution_count": 14,
   "metadata": {},
   "outputs": [
    {
     "name": "stdout",
     "output_type": "stream",
     "text": [
      "Entities: [{'text': 'developing', 'category': 'Skill', 'type': 'Skill', 'offset': 88, 'length': 10, 'confidenceScore': 1.0, 'tags': [{'name': 'Skill', 'confidenceScore': 1.0}]}, {'text': 'delivering solutions', 'category': 'Skill', 'type': 'Skill', 'offset': 103, 'length': 20, 'confidenceScore': 0.99, 'tags': [{'name': 'Skill', 'confidenceScore': 0.99}]}, {'text': 'business logic', 'category': 'Skill', 'type': 'Skill', 'offset': 181, 'length': 14, 'confidenceScore': 0.82, 'tags': [{'name': 'Skill', 'confidenceScore': 0.82}]}, {'text': 'managing data', 'category': 'Skill', 'type': 'Skill', 'offset': 197, 'length': 13, 'confidenceScore': 0.85, 'tags': [{'name': 'Skill', 'confidenceScore': 0.85}]}, {'text': 'designing interfaces', 'category': 'Skill', 'type': 'Skill', 'offset': 212, 'length': 20, 'confidenceScore': 0.97, 'tags': [{'name': 'Skill', 'confidenceScore': 0.97}]}, {'text': 'integrating systems', 'category': 'Skill', 'type': 'Skill', 'offset': 238, 'length': 19, 'confidenceScore': 0.99, 'tags': [{'name': 'Skill', 'confidenceScore': 0.99}]}, {'text': 'build', 'category': 'Skill', 'type': 'Skill', 'offset': 286, 'length': 5, 'confidenceScore': 0.8, 'tags': [{'name': 'Skill', 'confidenceScore': 0.8}]}, {'text': 'technical platforms', 'category': 'Skill', 'type': 'Skill', 'offset': 315, 'length': 19, 'confidenceScore': 1.0, 'tags': [{'name': 'Skill', 'confidenceScore': 1.0}]}, {'text': 'Node', 'category': 'Product', 'type': 'ComputingProduct', 'offset': 381, 'length': 4, 'confidenceScore': 1.0, 'tags': [{'name': 'ComputingProduct', 'confidenceScore': 1.0}, {'name': 'Product', 'confidenceScore': 1.0}]}, {'text': 'JavaScript', 'category': 'Skill', 'type': 'Skill', 'offset': 387, 'length': 10, 'confidenceScore': 1.0, 'tags': [{'name': 'Skill', 'confidenceScore': 1.0}]}, {'text': 'Java', 'category': 'Skill', 'type': 'Skill', 'offset': 415, 'length': 4, 'confidenceScore': 1.0, 'tags': [{'name': 'Skill', 'confidenceScore': 1.0}]}, {'text': '-rounded', 'category': 'Skill', 'type': 'Skill', 'offset': 481, 'length': 8, 'confidenceScore': 0.73, 'tags': [{'name': 'Skill', 'confidenceScore': 0.73}]}, {'text': 'DevOps architect', 'category': 'PersonType', 'type': 'PersonType', 'offset': 520, 'length': 16, 'confidenceScore': 0.7, 'tags': [{'name': 'PersonType', 'confidenceScore': 0.7}]}, {'text': 'technology', 'category': 'Skill', 'type': 'Skill', 'offset': 565, 'length': 10, 'confidenceScore': 1.0, 'tags': [{'name': 'Skill', 'confidenceScore': 1.0}]}, {'text': 'DevOps', 'category': 'Skill', 'type': 'Skill', 'offset': 622, 'length': 6, 'confidenceScore': 1.0, 'tags': [{'name': 'Skill', 'confidenceScore': 1.0}]}, {'text': 'Integration Architect', 'category': 'PersonType', 'type': 'PersonType', 'offset': 643, 'length': 21, 'confidenceScore': 0.69, 'tags': [{'name': 'PersonType', 'confidenceScore': 0.69}]}, {'text': 'integrating technologies', 'category': 'Skill', 'type': 'Skill', 'offset': 699, 'length': 24, 'confidenceScore': 0.98, 'tags': [{'name': 'Skill', 'confidenceScore': 0.98}]}, {'text': 'application', 'category': 'Skill', 'type': 'Skill', 'offset': 747, 'length': 11, 'confidenceScore': 0.99, 'tags': [{'name': 'Skill', 'confidenceScore': 0.99}]}, {'text': 'Data Architect', 'category': 'PersonType', 'type': 'PersonType', 'offset': 783, 'length': 14, 'confidenceScore': 0.89, 'tags': [{'name': 'PersonType', 'confidenceScore': 0.89}]}, {'text': 'designing', 'category': 'Skill', 'type': 'Skill', 'offset': 835, 'length': 9, 'confidenceScore': 0.95, 'tags': [{'name': 'Skill', 'confidenceScore': 0.95}]}, {'text': 'data systems', 'category': 'Skill', 'type': 'Skill', 'offset': 845, 'length': 12, 'confidenceScore': 0.99, 'tags': [{'name': 'Skill', 'confidenceScore': 0.99}]}, {'text': 'implementing', 'category': 'Skill', 'type': 'Skill', 'offset': 862, 'length': 12, 'confidenceScore': 0.58, 'tags': [{'name': 'Skill', 'confidenceScore': 0.58}]}, {'text': 'Business Intelligence', 'category': 'Skill', 'type': 'Skill', 'offset': 875, 'length': 21, 'confidenceScore': 0.83, 'tags': [{'name': 'Skill', 'confidenceScore': 0.83}]}, {'text': 'architect', 'category': 'PersonType', 'type': 'PersonType', 'offset': 911, 'length': 9, 'confidenceScore': 0.98, 'tags': [{'name': 'PersonType', 'confidenceScore': 0.98}]}, {'text': 'may', 'category': 'Temporal', 'type': 'DateRange', 'offset': 944, 'length': 3, 'confidenceScore': 0.91, 'tags': [{'name': 'DateRange', 'confidenceScore': 0.91}, {'name': 'Temporal', 'confidenceScore': 0.91}], 'metadata': {'metadataKind': 'TemporalSpanMetadata', 'spanValues': [{'timex': 'XXXX-05', 'begin': '2023-05-01', 'end': '2023-06-01'}, {'timex': 'XXXX-05', 'begin': '2024-05-01', 'end': '2024-06-01'}]}}, {'text': 'architect', 'category': 'PersonType', 'type': 'PersonType', 'offset': 1109, 'length': 9, 'confidenceScore': 1.0, 'tags': [{'name': 'PersonType', 'confidenceScore': 1.0}]}, {'text': 'One', 'category': 'Numeric', 'type': 'Number', 'offset': 1195, 'length': 3, 'confidenceScore': 0.8, 'tags': [{'name': 'Number', 'confidenceScore': 0.8}, {'name': 'Numeric', 'confidenceScore': 0.8}], 'metadata': {'metadataKind': 'NumberMetadata', 'numberKind': 'Integer', 'value': 1.0}}]\n"
     ]
    }
   ],
   "source": [
    "# Recognize Entities HTTP\n",
    "\n",
    "url = f\"{endpoint}/language/:analyze-text?api-version=2023-11-15-preview\"\n",
    "\n",
    "headers = {\n",
    "    \"Content-Type\": \"application/json\",\n",
    "    \"Ocp-Apim-Subscription-Key\": api_key,\n",
    "}\n",
    "\n",
    "payload = {\n",
    "    \"kind\": \"EntityRecognition\",\n",
    "    \"parameters\": {\"modelVersion\": \"latest\"},\n",
    "    \"analysisInput\": {\"documents\": [{\"id\": \"1\", \"text\": example_text}]},\n",
    "}\n",
    "\n",
    "response = requests.post(url, json=payload, headers=headers)\n",
    "\n",
    "entity_recognition_result = json.loads(response.text)[\"results\"][\"documents\"][0]\n",
    "print(f\"Entities: {entity_recognition_result['entities']}\")"
   ]
  },
  {
   "cell_type": "code",
   "execution_count": 15,
   "metadata": {},
   "outputs": [
    {
     "name": "stdout",
     "output_type": "stream",
     "text": [
      "[LinkedEntity(name=Experience, matches=[LinkedEntityMatch(confidence_score=0.01, text=Experience, length=10, offset=125)], language=en, data_source_entity_id=Experience, url=https://en.wikipedia.org/wiki/Experience, data_source=Wikipedia, bing_entity_search_api_id=d64099b9-75e3-ad0d-6ab1-59abb4352e95), LinkedEntity(name=Node.js, matches=[LinkedEntityMatch(confidence_score=0.07, text=Node, length=4, offset=381)], language=en, data_source_entity_id=Node.js, url=https://en.wikipedia.org/wiki/Node.js, data_source=Wikipedia, bing_entity_search_api_id=f76e2d03-f85b-1317-2921-c588e887566a), LinkedEntity(name=JavaScript, matches=[LinkedEntityMatch(confidence_score=0.9, text=JavaScript, length=10, offset=387)], language=en, data_source_entity_id=JavaScript, url=https://en.wikipedia.org/wiki/JavaScript, data_source=Wikipedia, bing_entity_search_api_id=cb655991-5b3a-0e86-fe49-e353c7291b47), LinkedEntity(name=Java (programming language), matches=[LinkedEntityMatch(confidence_score=0.02, text=Java, length=4, offset=415)], language=en, data_source_entity_id=Java (programming language), url=https://en.wikipedia.org/wiki/Java_(programming_language), data_source=Wikipedia, bing_entity_search_api_id=8df814a3-19ce-e658-49c2-0b09b61a9c10), LinkedEntity(name=DevOps, matches=[LinkedEntityMatch(confidence_score=0.8, text=DevOps, length=6, offset=520), LinkedEntityMatch(confidence_score=0.8, text=DevOps, length=6, offset=622)], language=en, data_source_entity_id=DevOps, url=https://en.wikipedia.org/wiki/DevOps, data_source=Wikipedia, bing_entity_search_api_id=409258cf-52fd-f540-4d28-50b364fcb502), LinkedEntity(name=System integration, matches=[LinkedEntityMatch(confidence_score=0.08, text=Integration, length=11, offset=643)], language=en, data_source_entity_id=System integration, url=https://en.wikipedia.org/wiki/System_integration, data_source=Wikipedia, bing_entity_search_api_id=47d613f9-a3c5-6eaa-ecd6-9031357e00cb), LinkedEntity(name=Architecture, matches=[LinkedEntityMatch(confidence_score=0.01, text=Architect, length=9, offset=655)], language=en, data_source_entity_id=Architecture, url=https://en.wikipedia.org/wiki/Architecture, data_source=Wikipedia, bing_entity_search_api_id=923c5d3a-349e-34df-5754-aee4de2e60f9), LinkedEntity(name=Data architect, matches=[LinkedEntityMatch(confidence_score=0.82, text=Data Architect, length=14, offset=783)], language=en, data_source_entity_id=Data architect, url=https://en.wikipedia.org/wiki/Data_architect, data_source=Wikipedia, bing_entity_search_api_id=2c21ca38-7062-5d3f-4e72-2073306dec7f), LinkedEntity(name=Business intelligence, matches=[LinkedEntityMatch(confidence_score=0.87, text=Business Intelligence, length=21, offset=875)], language=en, data_source_entity_id=Business intelligence, url=https://en.wikipedia.org/wiki/Business_intelligence, data_source=Wikipedia, bing_entity_search_api_id=5e15ef6e-7051-9147-3281-68cd2659e954)]\n"
     ]
    }
   ],
   "source": [
    "# Linked Entities SDK\n",
    "\n",
    "entity_result = text_analytics_client.recognize_linked_entities(\n",
    "    documents=[example_text]\n",
    ")[0]\n",
    "\n",
    "print(entity_result.entities)\n",
    "\n",
    "#ex. bat vs bat"
   ]
  },
  {
   "cell_type": "code",
   "execution_count": 16,
   "metadata": {},
   "outputs": [
    {
     "name": "stdout",
     "output_type": "stream",
     "text": [
      "Linked Entities: [{'bingId': 'd64099b9-75e3-ad0d-6ab1-59abb4352e95', 'name': 'Experience', 'matches': [{'text': 'Experience', 'offset': 125, 'length': 10, 'confidenceScore': 0.01}], 'language': 'en', 'id': 'Experience', 'url': 'https://en.wikipedia.org/wiki/Experience', 'dataSource': 'Wikipedia'}, {'bingId': 'f76e2d03-f85b-1317-2921-c588e887566a', 'name': 'Node.js', 'matches': [{'text': 'Node', 'offset': 381, 'length': 4, 'confidenceScore': 0.07}], 'language': 'en', 'id': 'Node.js', 'url': 'https://en.wikipedia.org/wiki/Node.js', 'dataSource': 'Wikipedia'}, {'bingId': 'cb655991-5b3a-0e86-fe49-e353c7291b47', 'name': 'JavaScript', 'matches': [{'text': 'JavaScript', 'offset': 387, 'length': 10, 'confidenceScore': 0.9}], 'language': 'en', 'id': 'JavaScript', 'url': 'https://en.wikipedia.org/wiki/JavaScript', 'dataSource': 'Wikipedia'}, {'bingId': '8df814a3-19ce-e658-49c2-0b09b61a9c10', 'name': 'Java (programming language)', 'matches': [{'text': 'Java', 'offset': 415, 'length': 4, 'confidenceScore': 0.02}], 'language': 'en', 'id': 'Java (programming language)', 'url': 'https://en.wikipedia.org/wiki/Java_(programming_language)', 'dataSource': 'Wikipedia'}, {'bingId': '409258cf-52fd-f540-4d28-50b364fcb502', 'name': 'DevOps', 'matches': [{'text': 'DevOps', 'offset': 520, 'length': 6, 'confidenceScore': 0.8}, {'text': 'DevOps', 'offset': 622, 'length': 6, 'confidenceScore': 0.8}], 'language': 'en', 'id': 'DevOps', 'url': 'https://en.wikipedia.org/wiki/DevOps', 'dataSource': 'Wikipedia'}, {'bingId': '47d613f9-a3c5-6eaa-ecd6-9031357e00cb', 'name': 'System integration', 'matches': [{'text': 'Integration', 'offset': 643, 'length': 11, 'confidenceScore': 0.08}], 'language': 'en', 'id': 'System integration', 'url': 'https://en.wikipedia.org/wiki/System_integration', 'dataSource': 'Wikipedia'}, {'bingId': '923c5d3a-349e-34df-5754-aee4de2e60f9', 'name': 'Architecture', 'matches': [{'text': 'Architect', 'offset': 655, 'length': 9, 'confidenceScore': 0.01}], 'language': 'en', 'id': 'Architecture', 'url': 'https://en.wikipedia.org/wiki/Architecture', 'dataSource': 'Wikipedia'}, {'bingId': '2c21ca38-7062-5d3f-4e72-2073306dec7f', 'name': 'Data architect', 'matches': [{'text': 'Data Architect', 'offset': 783, 'length': 14, 'confidenceScore': 0.82}], 'language': 'en', 'id': 'Data architect', 'url': 'https://en.wikipedia.org/wiki/Data_architect', 'dataSource': 'Wikipedia'}, {'bingId': '5e15ef6e-7051-9147-3281-68cd2659e954', 'name': 'Business intelligence', 'matches': [{'text': 'Business Intelligence', 'offset': 875, 'length': 21, 'confidenceScore': 0.87}], 'language': 'en', 'id': 'Business intelligence', 'url': 'https://en.wikipedia.org/wiki/Business_intelligence', 'dataSource': 'Wikipedia'}]\n"
     ]
    }
   ],
   "source": [
    "# Linked Entities HTTP\n",
    "\n",
    "url = f\"{endpoint}/language/:analyze-text?api-version=2023-11-15-preview\"\n",
    "\n",
    "headers = {\n",
    "    \"Content-Type\": \"application/json\",\n",
    "    \"Ocp-Apim-Subscription-Key\": api_key,\n",
    "}\n",
    "\n",
    "payload = {\n",
    "    \"kind\": \"EntityLinking\",\n",
    "    \"parameters\": {\"modelVersion\": \"latest\"},\n",
    "    \"analysisInput\": {\"documents\": [{\"id\": \"1\", \"text\": example_text}]},\n",
    "}\n",
    "\n",
    "response = requests.post(url, json=payload, headers=headers)\n",
    "\n",
    "linked_entity_result = json.loads(response.text)[\"results\"][\"documents\"][0]\n",
    "print(f\"Linked Entities: {linked_entity_result['entities']}\")\n",
    "\n"
   ]
  },
  {
   "cell_type": "code",
   "execution_count": 9,
   "metadata": {},
   "outputs": [
    {
     "name": "stdout",
     "output_type": "stream",
     "text": [
      "[RecognizePiiEntitiesResult(id=0, entities=[PiiEntity(text=DevOps architect, category=PersonType, subcategory=None, length=16, offset=520, confidence_score=0.7), PiiEntity(text=Integration Architect, category=PersonType, subcategory=None, length=21, offset=643, confidence_score=0.69), PiiEntity(text=Data Architect, category=PersonType, subcategory=None, length=14, offset=783, confidence_score=0.89), PiiEntity(text=architect, category=PersonType, subcategory=None, length=9, offset=911, confidence_score=0.98), PiiEntity(text=architect, category=PersonType, subcategory=None, length=9, offset=1109, confidence_score=1.0)], redacted_text=\n",
      "While we’ve just been discussing expertise, nothing can replace hands-on experience in developing and delivering solutions. Experience should include a healthy mix of implementing business logic, managing data, designing interfaces, and integrating systems.\n",
      "\n",
      "Look for opportunities to build solutions on different technical platforms. Some examples include the .NET C# ecosystem, Node, RecognizePiiEntitiesResult(id=1, entities=[PiiEntity(text=clayton@email.com, category=Email, subcategory=None, length=17, offset=0, confidence_score=0.8)], redacted_text=*****************, warnings=[], statistics=None, is_error=False, kind=PiiEntityRecognition)]\n"
     ]
    }
   ],
   "source": [
    "# Personally Identifiable Information Entities SDK\n",
    "\n",
    "pii_entities = text_analytics_client.recognize_pii_entities(documents=[example_text, \"clayton@email.com\"])\n",
    "\n",
    "print(pii_entities)\n",
    "\n",
    "#ex. Remove emails, truly anonymous salary reviews"
   ]
  },
  {
   "cell_type": "code",
   "execution_count": 13,
   "metadata": {},
   "outputs": [
    {
     "name": "stdout",
     "output_type": "stream",
     "text": [
      "{'redactedText': '\\nWhile we’ve just been discussing expertise, nothing can replace hands-on experience in developing and delivering solutions. Experience should include a healthy mix of implementing business logic, managing data, designing interfaces, and integrating systems.\\n\\nLook for opportunities to build solutions on different technical platforms. Some examples include the .NET C# ecosystem, Node, JavaScript/client side, and Java.\\n\\nYou may end up specializing in a given area, but being well-rounded still applies. For example, a **************** should have a good grasp of technology generally while also knowing the specifics of DevOps very well. An ********************* may have most of their experience integrating technologies but can still build an application if needed. Meanwhile, a ************** would be expected to have experience designing data systems and implementing Business Intelligence solutions. An ********* with narrow experience may miss out on better solutions for problems because they resort to the limited solutions they are familiar with.\\n\\nKeep in mind that sometimes, the best lessons an ********* will learn are by doing things the wrong way or making an incorrect choice. One must be humble and self-aware enough to learn from their mistakes to minimize the chance of making them in the future.\\n', 'id': '1', 'entities': [{'text': 'DevOps architect', 'category': 'PersonType', 'offset': 520, 'length': 16, 'confidenceScore': 0.7}, {'text': 'Integration Architect', 'category': 'PersonType', 'offset': 643, 'length': 21, 'confidenceScore': 0.69}, {'text': 'Data Architect', 'category': 'PersonType', 'offset': 783, 'length': 14, 'confidenceScore': 0.89}, {'text': 'architect', 'category': 'PersonType', 'offset': 911, 'length': 9, 'confidenceScore': 0.98}, {'text': 'architect', 'category': 'PersonType', 'offset': 1109, 'length': 9, 'confidenceScore': 1.0}], 'warnings': []} \n",
      "\n",
      "PII Entities: [{'text': 'DevOps architect', 'category': 'PersonType', 'offset': 520, 'length': 16, 'confidenceScore': 0.7}, {'text': 'Integration Architect', 'category': 'PersonType', 'offset': 643, 'length': 21, 'confidenceScore': 0.69}, {'text': 'Data Architect', 'category': 'PersonType', 'offset': 783, 'length': 14, 'confidenceScore': 0.89}, {'text': 'architect', 'category': 'PersonType', 'offset': 911, 'length': 9, 'confidenceScore': 0.98}, {'text': 'architect', 'category': 'PersonType', 'offset': 1109, 'length': 9, 'confidenceScore': 1.0}]\n"
     ]
    }
   ],
   "source": [
    "# Personally Identifiable Information Entities HTTP\n",
    "\n",
    "url = f\"{endpoint}/language/:analyze-text?api-version=2023-11-15-preview\"\n",
    "\n",
    "headers = {\n",
    "    \"Content-Type\": \"application/json\",\n",
    "    \"Ocp-Apim-Subscription-Key\": api_key,\n",
    "}\n",
    "\n",
    "payload = {\n",
    "    \"kind\": \"PiiEntityRecognition\",\n",
    "    \"parameters\": {\"modelVersion\": \"latest\"},\n",
    "    \"analysisInput\": {\"documents\": [{\"id\": \"1\", \"text\": example_text}]},\n",
    "}\n",
    "\n",
    "response = requests.post(url, json=payload, headers=headers)\n",
    "\n",
    "pii_entities = json.loads(response.text)[\"results\"][\"documents\"][0]\n",
    "\n",
    "print(pii_entities, '\\n')\n",
    "\n",
    "print(f\"PII Entities: {pii_entities['entities']}\")\n",
    "\n"
   ]
  }
 ],
 "metadata": {
  "kernelspec": {
   "display_name": "ai-102-demo",
   "language": "python",
   "name": "python3"
  },
  "language_info": {
   "codemirror_mode": {
    "name": "ipython",
    "version": 3
   },
   "file_extension": ".py",
   "mimetype": "text/x-python",
   "name": "python",
   "nbconvert_exporter": "python",
   "pygments_lexer": "ipython3",
   "version": "3.9.18"
  }
 },
 "nbformat": 4,
 "nbformat_minor": 2
}
