{
 "cells": [
  {
   "cell_type": "code",
   "execution_count": 1,
   "metadata": {},
   "outputs": [],
   "source": [
    "import os\n",
    "\n",
    "from dotenv import load_dotenv\n",
    "from azure.core.credentials import AzureKeyCredential\n",
    "from azure.ai.language.questionanswering import QuestionAnsweringClient\n",
    "\n",
    "load_dotenv(override=True)\n",
    "endpoint = os.environ.get(\"AZURE_LANGUAGE_ENDPOINT\")\n",
    "api_key = os.environ.get(\"AZURE_LANGUAGE_API_KEY\")\n",
    "credential = AzureKeyCredential(api_key)\n",
    "\n",
    "question_answering_client = QuestionAnsweringClient(endpoint=endpoint, credential=credential)\n",
    "\n",
    "project = os.environ.get(\"AZURE_LANGUAGE_CUSTOM_QA_PROJECT\")\n",
    "deployment = 'production'"
   ]
  },
  {
   "cell_type": "code",
   "execution_count": 32,
   "metadata": {},
   "outputs": [
    {
     "name": "stdout",
     "output_type": "stream",
     "text": [
      "answer.confidence=0.565\n",
      "answer.source='https://www.apple.com/apple-vision-pro/'\n",
      "answer.short_answer=None\n",
      "The custom micro‑OLED display system features 23 million pixels, delivering stunning resolution and colors. And a specially designed three‑element lens creates the feeling of a display that’s everywhere you look.\n"
     ]
    }
   ],
   "source": [
    "question = \"How many pixels does the pro vision screen have?\"\n",
    "\n",
    "response = question_answering_client.get_answers(\n",
    "    question=question, project_name=project, deployment_name=deployment, confidence_threshold=0.5\n",
    ")\n",
    "\n",
    "answer = response.answers[0]\n",
    "\n",
    "print(f\"{answer.confidence=}\")\n",
    "print(f\"{answer.source=}\")\n",
    "print(f\"{answer.short_answer=}\")\n",
    "print(answer.answer)"
   ]
  },
  {
   "cell_type": "code",
   "execution_count": 17,
   "metadata": {},
   "outputs": [
    {
     "name": "stdout",
     "output_type": "stream",
     "text": [
      "answer.confidence=1.0\n",
      "answer.source='qna_chitchat_Witty'\n",
      "answer.short_answer=None\n",
      "I'm age-free.\n"
     ]
    }
   ],
   "source": [
    "question = \"How old are you?\"\n",
    "\n",
    "response = question_answering_client.get_answers(\n",
    "    question=question, project_name=project, deployment_name=deployment, confidence_threshold=0.5\n",
    ")\n",
    "\n",
    "answer = response.answers[0]\n",
    "\n",
    "print(f\"{answer.confidence=}\")\n",
    "print(f\"{answer.source=}\")\n",
    "print(f\"{answer.short_answer=}\")\n",
    "print(answer.answer)"
   ]
  },
  {
   "cell_type": "code",
   "execution_count": 33,
   "metadata": {},
   "outputs": [
    {
     "name": "stdout",
     "output_type": "stream",
     "text": [
      "answer.confidence=0.0\n",
      "answer.source=None\n",
      "answer.short_answer=None\n",
      "answer.questions=[]\n",
      "Steve Jobs doesn't want you to know\n"
     ]
    }
   ],
   "source": [
    "question = \"What did Steve Jobs do before inventing apples?\"\n",
    "\n",
    "response = question_answering_client.get_answers(\n",
    "    question=question, project_name=project, deployment_name=deployment, confidence_threshold=0.5\n",
    ")\n",
    "\n",
    "answer = response.answers[0]\n",
    "\n",
    "print(f\"{answer.confidence=}\")\n",
    "print(f\"{answer.source=}\")\n",
    "print(f\"{answer.short_answer=}\")\n",
    "print(f\"{answer.questions=}\")\n",
    "print(answer.answer)"
   ]
  }
 ],
 "metadata": {
  "kernelspec": {
   "display_name": "ai-102-demo",
   "language": "python",
   "name": "python3"
  },
  "language_info": {
   "codemirror_mode": {
    "name": "ipython",
    "version": 3
   },
   "file_extension": ".py",
   "mimetype": "text/x-python",
   "name": "python",
   "nbconvert_exporter": "python",
   "pygments_lexer": "ipython3",
   "version": "3.9.18"
  }
 },
 "nbformat": 4,
 "nbformat_minor": 2
}
