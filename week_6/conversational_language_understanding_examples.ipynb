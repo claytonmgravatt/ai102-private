{
 "cells": [
  {
   "cell_type": "code",
   "execution_count": 1,
   "metadata": {},
   "outputs": [],
   "source": [
    "import os\n",
    "\n",
    "from dotenv import load_dotenv\n",
    "from azure.core.credentials import AzureKeyCredential\n",
    "from azure.ai.language.conversations import ConversationAnalysisClient\n",
    "\n",
    "load_dotenv(override=True)\n",
    "\n",
    "endpoint = os.environ.get(\"AZURE_LANGUAGE_ENDPOINT\")\n",
    "api_key = os.environ.get(\"AZURE_LANGUAGE_API_KEY\")\n",
    "credential = AzureKeyCredential(api_key)\n",
    "\n",
    "conversation_analysis_client = ConversationAnalysisClient(endpoint=endpoint, credential=credential)\n",
    "\n",
    "project = os.environ.get(\"AZURE_CLU_PROJECT\")\n",
    "deployment = os.environ.get(\"AZURE_CLU_DEPLOYMENT\")"
   ]
  },
  {
   "cell_type": "code",
   "execution_count": 13,
   "metadata": {},
   "outputs": [
    {
     "name": "stdout",
     "output_type": "stream",
     "text": [
      "{'kind': 'ConversationResult', 'result': {'query': 'Turn on the living room fan', 'prediction': {'topIntent': 'TurnOnDevice', 'projectKind': 'Conversation', 'intents': [{'category': 'TurnOnDevice', 'confidenceScore': 0.7608061}, {'category': 'TurnOffDevice', 'confidenceScore': 0.6596994}, {'category': 'GetWeather', 'confidenceScore': 0.305942}, {'category': 'None', 'confidenceScore': 0}], 'entities': [{'category': 'Device', 'text': 'fan', 'offset': 24, 'length': 3, 'confidenceScore': 1}]}}}\n",
      "\n",
      "TurnOnDevice\n",
      "[{'category': 'Device', 'text': 'fan', 'offset': 24, 'length': 3, 'confidenceScore': 1}]\n"
     ]
    }
   ],
   "source": [
    "utterance = \"Turn on the living room fan\"\n",
    "\n",
    "result = conversation_analysis_client.analyze_conversation(\n",
    "        task={\n",
    "            \"kind\": \"Conversation\",\n",
    "            \"analysisInput\": {\n",
    "                \"conversationItem\": {\n",
    "                    \"participantId\": \"1\",\n",
    "                    \"id\": \"1\",\n",
    "                    \"modality\": \"text\",\n",
    "                    \"language\": \"en\",\n",
    "                    \"text\": utterance\n",
    "                },\n",
    "                \"isLoggingEnabled\": False\n",
    "            },\n",
    "            \"parameters\": {\n",
    "                \"projectName\": project,\n",
    "                \"deploymentName\": deployment,\n",
    "                \"verbose\": True\n",
    "            }\n",
    "        }\n",
    "    )\n",
    "\n",
    "print(result)\n",
    "print('')\n",
    "print(result['result']['prediction']['topIntent'])\n",
    "print(result['result']['prediction']['entities'])\n"
   ]
  },
  {
   "cell_type": "code",
   "execution_count": 14,
   "metadata": {},
   "outputs": [
    {
     "name": "stdout",
     "output_type": "stream",
     "text": [
      "{'kind': 'ConversationResult', 'result': {'query': 'What is the weather in Tokyo?', 'prediction': {'topIntent': 'GetWeather', 'projectKind': 'Conversation', 'intents': [{'category': 'GetWeather', 'confidenceScore': 1}, {'category': 'TurnOffDevice', 'confidenceScore': 0.40338558}, {'category': 'TurnOnDevice', 'confidenceScore': 0.31026694}, {'category': 'None', 'confidenceScore': 0}], 'entities': [{'category': 'Location', 'text': 'Tokyo', 'offset': 23, 'length': 5, 'confidenceScore': 1, 'extraInformation': [{'extraInformationKind': 'EntitySubtype', 'value': 'geography.location'}]}]}}}\n",
      "\n",
      "GetWeather\n",
      "[{'category': 'Location', 'text': 'Tokyo', 'offset': 23, 'length': 5, 'confidenceScore': 1, 'extraInformation': [{'extraInformationKind': 'EntitySubtype', 'value': 'geography.location'}]}]\n"
     ]
    }
   ],
   "source": [
    "utterance = \"What is the weather in Tokyo?\"\n",
    "\n",
    "result = conversation_analysis_client.analyze_conversation(\n",
    "        task={\n",
    "            \"kind\": \"Conversation\",\n",
    "            \"analysisInput\": {\n",
    "                \"conversationItem\": {\n",
    "                    \"participantId\": \"1\",\n",
    "                    \"id\": \"1\",\n",
    "                    \"modality\": \"text\",\n",
    "                    \"language\": \"en\",\n",
    "                    \"text\": utterance\n",
    "                },\n",
    "                \"isLoggingEnabled\": False\n",
    "            },\n",
    "            \"parameters\": {\n",
    "                \"projectName\": project,\n",
    "                \"deploymentName\": deployment,\n",
    "                \"verbose\": True\n",
    "            }\n",
    "        }\n",
    "    )\n",
    "\n",
    "print(result)\n",
    "print('')\n",
    "print(result['result']['prediction']['topIntent'])\n",
    "print(result['result']['prediction']['entities'])\n"
   ]
  }
 ],
 "metadata": {
  "kernelspec": {
   "display_name": "ai-102-demo",
   "language": "python",
   "name": "python3"
  },
  "language_info": {
   "codemirror_mode": {
    "name": "ipython",
    "version": 3
   },
   "file_extension": ".py",
   "mimetype": "text/x-python",
   "name": "python",
   "nbconvert_exporter": "python",
   "pygments_lexer": "ipython3",
   "version": "3.9.18"
  }
 },
 "nbformat": 4,
 "nbformat_minor": 2
}
