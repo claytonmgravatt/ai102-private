{
 "cells": [
  {
   "cell_type": "code",
   "execution_count": 2,
   "metadata": {},
   "outputs": [
    {
     "name": "stdout",
     "output_type": "stream",
     "text": [
      "{'blocklistsMatch': [], 'categoriesAnalysis': [{'category': 'Hate', 'severity': 0}, {'category': 'SelfHarm', 'severity': 0}, {'category': 'Sexual', 'severity': 2}, {'category': 'Violence', 'severity': 0}]}\n"
     ]
    }
   ],
   "source": [
    "import os\n",
    "\n",
    "from dotenv import load_dotenv\n",
    "from azure.core.credentials import AzureKeyCredential\n",
    "from azure.ai.contentsafety import ContentSafetyClient\n",
    "from azure.ai.contentsafety.models import AnalyzeTextOptions\n",
    "\n",
    "\n",
    "load_dotenv(override=True)\n",
    "endpoint = os.environ.get(\"AZURE_SAFETY_ENDPOINT\")\n",
    "api_key = os.environ.get(\"AZURE_SAFETY_API_KEY\")\n",
    "credential = AzureKeyCredential(api_key)\n",
    "\n",
    "content_safety_client = ContentSafetyClient(endpoint=endpoint, credential=credential)\n",
    "\n",
    "outlander_text = \"\"\"\n",
    "He laid me carefully back in the grass, the feathery blossoms of the cow parsley seeming to float \n",
    "in the air around his head. He bent forward and kissed me, softly, and kept on kissing me \n",
    "as he unbuttoned my dress...\n",
    "\"\"\"\n",
    "\n",
    "analyze_text_option = AnalyzeTextOptions(text=outlander_text)\n",
    "\n",
    "results = content_safety_client.analyze_text(analyze_text_option)\n",
    "print(results)\n"
   ]
  },
  {
   "cell_type": "code",
   "execution_count": 3,
   "metadata": {},
   "outputs": [
    {
     "name": "stdout",
     "output_type": "stream",
     "text": [
      "{'blocklistsMatch': [], 'categoriesAnalysis': [{'category': 'Hate', 'severity': 0}, {'category': 'SelfHarm', 'severity': 0}, {'category': 'Sexual', 'severity': 0}, {'category': 'Violence', 'severity': 0}]}\n"
     ]
    }
   ],
   "source": [
    "results = content_safety_client.analyze_text(\n",
    "    AnalyzeTextOptions(\n",
    "        text=\"Python isn't a real programming language\"\n",
    "    )\n",
    ")\n",
    "\n",
    "print(results)"
   ]
  },
  {
   "cell_type": "code",
   "execution_count": 4,
   "metadata": {},
   "outputs": [
    {
     "name": "stdout",
     "output_type": "stream",
     "text": [
      "{'blocklistsMatch': [], 'categoriesAnalysis': [{'category': 'Hate', 'severity': 2}, {'category': 'SelfHarm', 'severity': 0}, {'category': 'Sexual', 'severity': 0}, {'category': 'Violence', 'severity': 0}]}\n"
     ]
    }
   ],
   "source": [
    "results = content_safety_client.analyze_text(\n",
    "    AnalyzeTextOptions(\n",
    "        text=\"Python isn't a real programming language, and people who use it aren't real programmers.\"\n",
    "    )\n",
    ")\n",
    "\n",
    "print(results)\n",
    "\n",
    "#ex: message boards, comments, etc."
   ]
  },
  {
   "cell_type": "code",
   "execution_count": 5,
   "metadata": {},
   "outputs": [
    {
     "name": "stdout",
     "output_type": "stream",
     "text": [
      "{'categoriesAnalysis': [{'category': 'Hate', 'severity': 0}, {'category': 'SelfHarm', 'severity': 0}, {'category': 'Sexual', 'severity': 0}, {'category': 'Violence', 'severity': 0}]}\n"
     ]
    }
   ],
   "source": [
    "from azure.ai.contentsafety.models import AnalyzeImageOptions, ImageData\n",
    "\n",
    "with open('Outlander.PNG', 'rb') as file:\n",
    "    image_content = file.read()\n",
    "\n",
    "image_data = ImageData(content=image_content)\n",
    "\n",
    "analyze_image_options = AnalyzeImageOptions(image=image_data)\n",
    "\n",
    "results = content_safety_client.analyze_image(analyze_image_options)\n",
    "print(results)"
   ]
  },
  {
   "cell_type": "code",
   "execution_count": 6,
   "metadata": {},
   "outputs": [
    {
     "name": "stdout",
     "output_type": "stream",
     "text": [
      "{'categoriesAnalysis': [{'category': 'Hate', 'severity': 0}, {'category': 'SelfHarm', 'severity': 0}, {'category': 'Sexual', 'severity': 0}, {'category': 'Violence', 'severity': 2}]}\n"
     ]
    }
   ],
   "source": [
    "from azure.ai.contentsafety.models import AnalyzeImageOptions, ImageData\n",
    "\n",
    "with open('Outlander2.PNG', 'rb') as file:\n",
    "    image_content = file.read()\n",
    "\n",
    "image_data = ImageData(content=image_content)\n",
    "\n",
    "analyze_image_options = AnalyzeImageOptions(image=image_data)\n",
    "\n",
    "results = content_safety_client.analyze_image(analyze_image_options)\n",
    "print(results)"
   ]
  }
 ],
 "metadata": {
  "kernelspec": {
   "display_name": "ai-102-demo",
   "language": "python",
   "name": "python3"
  },
  "language_info": {
   "codemirror_mode": {
    "name": "ipython",
    "version": 3
   },
   "file_extension": ".py",
   "mimetype": "text/x-python",
   "name": "python",
   "nbconvert_exporter": "python",
   "pygments_lexer": "ipython3",
   "version": "3.9.18"
  }
 },
 "nbformat": 4,
 "nbformat_minor": 2
}
