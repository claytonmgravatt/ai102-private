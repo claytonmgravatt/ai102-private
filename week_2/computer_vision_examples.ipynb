{
 "cells": [
  {
   "cell_type": "markdown",
   "metadata": {},
   "source": [
    "# Image Analysis\n",
    "\n",
    " - *Description and tag generation* - determining an appropriate caption for an image, and identifying relevant \"tags\" that can be used as keywords to indicate its subject.\n",
    " - *Object detection* - detecting the presence and location of specific objects within the image.\n",
    " - *People detection* - detecting the presence, location, and features of people in the image.\n",
    "- *Background removal* - detecting the background in an image and output the image with the background transparent or a greyscale alpha matte image.\n",
    "- *Optical character recognition* - reading text in the image.\n",
    "- *Smart thumbnail generation* - identifying the main region of interest in the image to create a smaller \"thumbnail\" version."
   ]
  },
  {
   "cell_type": "code",
   "execution_count": null,
   "metadata": {},
   "outputs": [],
   "source": [
    "import os\n",
    "import requests\n",
    "\n",
    "from azure.ai.vision.imageanalysis import ImageAnalysisClient\n",
    "from azure.core.credentials import AzureKeyCredential\n",
    "from dotenv import load_dotenv\n",
    "from PIL import Image, ImageDraw, ImageFont\n",
    "\n",
    "load_dotenv(override=True)\n",
    "endpoint = os.environ.get(\"AZURE_VISION_ENDPOINT\")\n",
    "api_key = os.environ.get(\"AZURE_VISION_API_KEY\")\n",
    "credential = AzureKeyCredential(api_key)\n",
    "\n",
    "image_analysis_client = ImageAnalysisClient(endpoint, credential)\n",
    "\n",
    "image_path = 'images/DSC08294.jpg'\n",
    "with open(image_path, 'rb') as f:\n",
    "    image_data = f.read()\n",
    "\n",
    "image = Image.open(image_path)\n",
    "\n",
    "image"
   ]
  },
  {
   "cell_type": "code",
   "execution_count": null,
   "metadata": {},
   "outputs": [],
   "source": [
    "from azure.ai.vision.imageanalysis.models import VisualFeatures\n",
    "\n",
    "image_analysis = image_analysis_client.analyze(\n",
    "    image_data=image_data, visual_features=[VisualFeatures.CAPTION]\n",
    ")\n",
    "\n",
    "print(image_analysis)\n",
    "image"
   ]
  },
  {
   "cell_type": "code",
   "execution_count": null,
   "metadata": {},
   "outputs": [],
   "source": [
    "image_analysis = image_analysis_client.analyze(\n",
    "    image_data=image_data, visual_features=[VisualFeatures.TAGS]\n",
    ")\n",
    "print(image_analysis)\n",
    "image"
   ]
  },
  {
   "cell_type": "code",
   "execution_count": null,
   "metadata": {},
   "outputs": [],
   "source": [
    "image_analysis = image_analysis_client.analyze(\n",
    "    image_data=image_data, visual_features=[VisualFeatures.OBJECTS]\n",
    ")\n",
    "print(image_analysis)\n",
    "\n",
    "image = Image.open(image_path)\n",
    "draw = ImageDraw.Draw(image)\n",
    "font = ImageFont.truetype(\"arial.ttf\", 32)\n",
    "color = \"red\"\n",
    "\n",
    "for detected_object in image_analysis.objects.list:\n",
    "    coords = detected_object.bounding_box\n",
    "    tags = \", \".join([tag.name for tag in detected_object.tags])\n",
    "    bounding_box = (\n",
    "        (coords.x, coords.y),\n",
    "        (coords.x + coords.width, coords.y + coords.height),\n",
    "    )\n",
    "\n",
    "    draw.rectangle(bounding_box, outline=color, width=3)\n",
    "    draw.text((coords.x, coords.y), tags, font=font, fill=color)\n",
    "\n",
    "image"
   ]
  },
  {
   "cell_type": "code",
   "execution_count": null,
   "metadata": {},
   "outputs": [],
   "source": [
    "image_analysis = image_analysis_client.analyze(\n",
    "    image_data=image_data, visual_features=[VisualFeatures.PEOPLE]\n",
    ")\n",
    "print(image_analysis)\n",
    "\n",
    "image = Image.open(image_path)\n",
    "draw = ImageDraw.Draw(image)\n",
    "font = ImageFont.truetype(\"arial.ttf\", 32)\n",
    "color = \"red\"\n",
    "\n",
    "for detected_person in image_analysis.people.list:\n",
    "    coords = detected_person.bounding_box\n",
    "   \n",
    "    bounding_box = (\n",
    "        (coords.x, coords.y),\n",
    "        (coords.x + coords.width, coords.y + coords.height),\n",
    "    )\n",
    "\n",
    "    draw.rectangle(bounding_box, outline=color, width=3)\n",
    "\n",
    "\n",
    "image"
   ]
  },
  {
   "cell_type": "code",
   "execution_count": null,
   "metadata": {},
   "outputs": [],
   "source": [
    "image_analysis = image_analysis_client.analyze(\n",
    "    image_data=image_data, visual_features=[VisualFeatures.DENSE_CAPTIONS]\n",
    ")\n",
    "print(image_analysis)\n",
    "\n",
    "image = Image.open(image_path)\n",
    "draw = ImageDraw.Draw(image)\n",
    "font = ImageFont.truetype(\"arial.ttf\", 32)\n",
    "color = \"red\"\n",
    "\n",
    "for detected_caption in image_analysis.dense_captions.list:\n",
    "    coords = detected_caption.bounding_box\n",
    "    caption = detected_caption.text\n",
    "\n",
    "    bounding_box = (\n",
    "        (coords.x, coords.y),\n",
    "        (coords.x + coords.width, coords.y + coords.height),\n",
    "    )\n",
    "    draw.text((coords.x, coords.y), caption, font=font, fill=color)\n",
    "    draw.rectangle(bounding_box, outline=color, width=3)\n",
    "\n",
    "\n",
    "image"
   ]
  },
  {
   "cell_type": "code",
   "execution_count": null,
   "metadata": {},
   "outputs": [],
   "source": [
    "image_analysis = image_analysis_client.analyze(\n",
    "    image_data=image_data, visual_features=[VisualFeatures.SMART_CROPS]\n",
    ")\n",
    "print(image_analysis)\n",
    "\n",
    "image = Image.open(image_path)\n",
    "\n",
    "for smart_crop in image_analysis.smart_crops.list:\n",
    "    coords = smart_crop.bounding_box\n",
    "    bounding_box = ( # different format\n",
    "        coords.x,\n",
    "        coords.y,\n",
    "        coords.x + coords.width,\n",
    "        coords.y + coords.height,\n",
    "    )\n",
    "    cropped_image = image.crop(bounding_box)\n",
    "\n",
    "cropped_image"
   ]
  },
  {
   "cell_type": "code",
   "execution_count": null,
   "metadata": {},
   "outputs": [],
   "source": [
    "#switching to a different photo that has a background/foreground\n",
    "\n",
    "image_path = 'images\\DSC08037.jpg'\n",
    "with open(image_path, 'rb') as f:\n",
    "    image_data = f.read()\n",
    "\n",
    "image = Image.open(image_path)\n",
    "image"
   ]
  },
  {
   "cell_type": "code",
   "execution_count": null,
   "metadata": {},
   "outputs": [],
   "source": [
    "image = Image.open(image_path)\n",
    "draw = ImageDraw.Draw(image)\n",
    "\n",
    "image_analysis = image_analysis_client.analyze(\n",
    "    image_data=image_data, visual_features=[VisualFeatures.READ]\n",
    ")\n",
    "print(image_analysis)\n",
    "\n",
    "for detected_text in image_analysis.read.blocks:\n",
    "    for detected_line in detected_text.lines:\n",
    "        text = detected_line.text\n",
    "        polygon = detected_line.bounding_polygon\n",
    "\n",
    "        points = [(point['x'], point['y']) for point in polygon]\n",
    "        draw.polygon(points, outline='red')\n",
    "        draw.text((points[0][0], points[0][1]), text, fill='blue')\n",
    "\n",
    "image"
   ]
  },
  {
   "cell_type": "code",
   "execution_count": null,
   "metadata": {},
   "outputs": [],
   "source": [
    "#switching to a different photo that has a background/foreground\n",
    "\n",
    "image_path = 'images\\DSC08708.jpg'\n",
    "with open(image_path, 'rb') as f:\n",
    "    image_data = f.read()\n",
    "\n",
    "Image.open(image_path)"
   ]
  },
  {
   "cell_type": "code",
   "execution_count": null,
   "metadata": {},
   "outputs": [],
   "source": [
    "api_version = \"2023-02-01-preview\"\n",
    "mode=\"backgroundRemoval\"\n",
    "url = f\"{endpoint}computervision/imageanalysis:segment?api-version={api_version}&mode={mode}\"\n",
    "\n",
    "headers= {\n",
    "    \"Ocp-Apim-Subscription-Key\": api_key, \n",
    "    \"Content-Type\": \"application/octet-stream\" \n",
    "}\n",
    "    \n",
    "response = requests.post(url, headers=headers, data=image_data)\n",
    "\n",
    "modified_image = response.content\n",
    "\n",
    "foreground_path = \"images/backgroundForeground.png\"\n",
    "with open(foreground_path, \"wb\") as file:\n",
    "    file.write(modified_image)\n",
    "\n",
    "Image.open(foreground_path)"
   ]
  },
  {
   "cell_type": "code",
   "execution_count": null,
   "metadata": {},
   "outputs": [],
   "source": [
    "api_version = \"2023-02-01-preview\"\n",
    "mode=\"foregroundMatting\"\n",
    "url = f\"{endpoint}computervision/imageanalysis:segment?api-version={api_version}&mode={mode}\"\n",
    "\n",
    "headers= {\n",
    "    \"Ocp-Apim-Subscription-Key\": api_key, \n",
    "    \"Content-Type\": \"application/octet-stream\" \n",
    "}\n",
    "    \n",
    "response = requests.post(url, headers=headers, data=image_data)\n",
    "\n",
    "modified_image = response.content\n",
    "\n",
    "foreground_path = \"images/backgroundForeground.png\"\n",
    "with open(foreground_path, \"wb\") as file:\n",
    "    file.write(modified_image)\n",
    "\n",
    "Image.open(foreground_path)"
   ]
  }
 ],
 "metadata": {
  "kernelspec": {
   "display_name": "ai-102-demo",
   "language": "python",
   "name": "python3"
  },
  "language_info": {
   "codemirror_mode": {
    "name": "ipython",
    "version": 3
   },
   "file_extension": ".py",
   "mimetype": "text/x-python",
   "name": "python",
   "nbconvert_exporter": "python",
   "pygments_lexer": "ipython3",
   "version": "3.9.18"
  }
 },
 "nbformat": 4,
 "nbformat_minor": 2
}
